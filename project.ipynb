{
 "cells": [
  {
   "cell_type": "markdown",
   "metadata": {},
   "source": [
    "                                Final Project\n",
    "Project Overview:\n",
    "\n",
    "The purpose of this project is to see the relationship between price level and unemployment rate for the entire U.S. The macroeconomics theory states that there is a tradeoff between price level and unemployment rate. In this project, we have time series data of price level and unemployment rate for the U.S. We will use linear regression analysis to test this theory. \n",
    "\n",
    "\n",
    "\n"
   ]
  },
  {
   "cell_type": "markdown",
   "metadata": {},
   "source": [
    "Project Structure:\n",
    "\n",
    "The project will start by providing a data report. The data report will explain where the data comes from and how to access the data.\n",
    "\n",
    "The second part of the project will provide summary statistics about CPI and unemployment rate trends and provide visualizations of these statistics to help further illustrate the project.  \n",
    "The third part of the project will state a hypothesis and compared with trends in previous scholarship.  Then, a linear regression will be performed to test the hypothesis and the results will be stated.  Lastly, there will be a detailed discussion of the results and how it follows or goes against previous scholarship."
   ]
  },
  {
   "cell_type": "markdown",
   "metadata": {},
   "source": [
    "Data Report:\n",
    "\n",
    "The data for this project comes from the Federal Reserve Economic Data website (FRED).  FRED provides monthly data on both the U.S. CPI and unemployment rate from 1948 onward, and it identifies times of periods of economic contraction. The data can be accessed at https://fred.stlouisfed.org.\n",
    "\n",
    "Key Variables:\n",
    "\n",
    "The two key variables of this project are CPI and unemployment rate. FRED defines CPI as the following:\n",
    "    \"The CPIs are based on prices for food, clothing, shelter, and fuels; transportation fares; service fees (e.g., water and sewer service); and sales taxes. Prices are collected monthly from about 4,000 housing units and approximately 26,000 retail establishments across 87 urban areas. To calculate the index, price changes are averaged with weights representing their importance in the spending of the particular group. The index measures price changes (as a percent change) from a predetermined reference date. In addition to the original unadjusted index distributed, the Bureau of Labor Statistics also releases a seasonally adjusted index. The unadjusted series reflects all factors that may influence a change in prices. However, it can be very useful to look at the seasonally adjusted CPI, which removes the effects of seasonal changes, such as weather, school year, production cycles, and holidays.\"\n",
    "\n",
    "FRED defines unemployment rate as the following:\n",
    "    \"The unemployment rate represents the number of unemployed as a percentage of the labor force. Labor force data are restricted to people 16 years of age and older, who currently reside in 1 of the 50 states or the District of Columbia, who do not reside in institutions (e.g., penal and mental facilities, homes for the aged), and who are not on active duty in the Armed Forces.\""
   ]
  }
 ],
 "metadata": {
  "kernelspec": {
   "display_name": "Python 3",
   "language": "python",
   "name": "python3"
  },
  "language_info": {
   "codemirror_mode": {
    "name": "ipython",
    "version": 3
   },
   "file_extension": ".py",
   "mimetype": "text/x-python",
   "name": "python",
   "nbconvert_exporter": "python",
   "pygments_lexer": "ipython3",
   "version": "3.8.3"
  }
 },
 "nbformat": 4,
 "nbformat_minor": 4
}
