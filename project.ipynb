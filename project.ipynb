{
 "cells": [
  {
   "cell_type": "markdown",
   "metadata": {},
   "source": [
    "                                Final Project\n",
    "Project Overview:\n",
    "The purpose of this project is to see the relationship between price level and unemployment rate for the entire U.S.\n",
    "\n"
   ]
  },
  {
   "cell_type": "markdown",
   "metadata": {},
   "source": [
    "Project Structure:\n",
    "\n",
    "The project will start by providing a data report. The data report will explain where the data comes from and how to access the data.\n",
    "\n",
    "The second part of the project will provide summary statistics about CPI and unemployment rate trends and provide visualizations of these statistics to help further illustrate the project.  \n",
    "The third part of the project will state a hypothesis and compared with trends in previous scholarship.  Then, a linear regression will be performed to test the hypothesis and the results will be stated.  Lastly, there will be a detailed discussion of the results and how it follows or goes against previous scholarship."
   ]
  },
  {
   "cell_type": "markdown",
   "metadata": {},
   "source": [
    "Data Report\n",
    "The data comes from Federal Reserve Economic Data (FRED). \n"
   ]
  }
 ],
 "metadata": {
  "kernelspec": {
   "display_name": "Python 3",
   "language": "python",
   "name": "python3"
  },
  "language_info": {
   "codemirror_mode": {
    "name": "ipython",
    "version": 3
   },
   "file_extension": ".py",
   "mimetype": "text/x-python",
   "name": "python",
   "nbconvert_exporter": "python",
   "pygments_lexer": "ipython3",
   "version": "3.8.3"
  }
 },
 "nbformat": 4,
 "nbformat_minor": 4
}
